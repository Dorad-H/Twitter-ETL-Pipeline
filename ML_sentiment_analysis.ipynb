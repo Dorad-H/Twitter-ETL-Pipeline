{
 "cells": [
  {
   "cell_type": "markdown",
   "id": "f9fdb496",
   "metadata": {},
   "source": [
    "# 1.0 Collecting Data through API"
   ]
  },
  {
   "cell_type": "code",
   "execution_count": 1,
   "id": "c6f1db4b",
   "metadata": {
    "ExecuteTime": {
     "end_time": "2023-02-09T16:32:52.872232Z",
     "start_time": "2023-02-09T16:32:52.175596Z"
    }
   },
   "outputs": [],
   "source": [
    "#All the imports\n",
    "from vaderSentiment.vaderSentiment import SentimentIntensityAnalyzer\n",
    "import tweepy\n",
    "from tweepy import *\n",
    "import os\n",
    "from dotenv import load_dotenv,find_dotenv\n",
    "import pandas as pd\n",
    "import numpy as np\n",
    "from langdetect import detect"
   ]
  },
  {
   "cell_type": "markdown",
   "id": "064b1160",
   "metadata": {},
   "source": [
    "Downloaded data multiple times throught the API for different companies: Wendys, Google, Nasa, Spacex, Microsoft, Dominoes, Mcdonalds (these were identified as some of the most popular ones). It seems the limit was 200 rows per query. The csv files with the data were saved of each company then combined in the end as a single dataframe for analysis. It would be good to have a great variety to have the model train better."
   ]
  },
  {
   "cell_type": "code",
   "execution_count": 2,
   "id": "9dfba29b",
   "metadata": {
    "ExecuteTime": {
     "end_time": "2023-02-09T16:32:56.326167Z",
     "start_time": "2023-02-09T16:32:55.744926Z"
    }
   },
   "outputs": [],
   "source": [
    "# Adding API and secret\n",
    "consumer_key = os.getenv('API_KEY')\n",
    "consumer_secret = os.getenv('API_SECRET')\n",
    "access_token = os.getenv('TOKEN')\n",
    "access_token_secret = os.getenv('TOKEN_SECRET')\n",
    "\n",
    "# Authenticating on the twitter API\n",
    "auth = tweepy.OAuthHandler(consumer_key, consumer_secret)\n",
    "auth.set_access_token(access_token, access_token_secret)\n",
    "api = tweepy.API(auth)\n",
    "\n",
    "'''Getting the data'''\n",
    "# Get the tweets from Twitter accounts\n",
    "tweets = api.user_timeline(screen_name='Mcdonalds', count=900)"
   ]
  },
  {
   "cell_type": "code",
   "execution_count": 3,
   "id": "03a880b5",
   "metadata": {
    "ExecuteTime": {
     "end_time": "2023-02-09T16:33:00.063117Z",
     "start_time": "2023-02-09T16:33:00.055787Z"
    }
   },
   "outputs": [],
   "source": [
    "# Create empty lists to store the data along the line\n",
    "ids = []\n",
    "texts = []\n",
    "dates = []\n",
    "likes = []\n",
    "retweets = []\n",
    "\n",
    "# Iterate over the tweets and store the data\n",
    "for tweet in tweets:\n",
    "    ids.append(tweet.id)\n",
    "    texts.append(tweet.text)\n",
    "    dates.append(tweet.created_at)\n",
    "    likes.append(tweet.favorite_count)\n",
    "    retweets.append(tweet.retweet_count)\n",
    "\n",
    "# Create dataframes to store the data\n",
    "df = pd.DataFrame({'id': ids, \n",
    "                   'text': texts,\n",
    "                  'date':dates,\n",
    "                  'likes':likes,\n",
    "                  'retweets':retweets})"
   ]
  },
  {
   "cell_type": "code",
   "execution_count": 4,
   "id": "71977db0",
   "metadata": {
    "ExecuteTime": {
     "end_time": "2023-02-09T16:33:00.823286Z",
     "start_time": "2023-02-09T16:33:00.803335Z"
    }
   },
   "outputs": [
    {
     "data": {
      "text/html": [
       "<div>\n",
       "<style scoped>\n",
       "    .dataframe tbody tr th:only-of-type {\n",
       "        vertical-align: middle;\n",
       "    }\n",
       "\n",
       "    .dataframe tbody tr th {\n",
       "        vertical-align: top;\n",
       "    }\n",
       "\n",
       "    .dataframe thead th {\n",
       "        text-align: right;\n",
       "    }\n",
       "</style>\n",
       "<table border=\"1\" class=\"dataframe\">\n",
       "  <thead>\n",
       "    <tr style=\"text-align: right;\">\n",
       "      <th></th>\n",
       "      <th>id</th>\n",
       "      <th>text</th>\n",
       "      <th>date</th>\n",
       "      <th>likes</th>\n",
       "      <th>retweets</th>\n",
       "    </tr>\n",
       "  </thead>\n",
       "  <tbody>\n",
       "    <tr>\n",
       "      <th>0</th>\n",
       "      <td>1623718563302318086</td>\n",
       "      <td>@rikkitae we always want your order to be 100%...</td>\n",
       "      <td>2023-02-09 16:20:47+00:00</td>\n",
       "      <td>0</td>\n",
       "      <td>0</td>\n",
       "    </tr>\n",
       "    <tr>\n",
       "      <th>1</th>\n",
       "      <td>1623717599430299650</td>\n",
       "      <td>@IceyTea__ we'd like to look into this for you...</td>\n",
       "      <td>2023-02-09 16:16:57+00:00</td>\n",
       "      <td>0</td>\n",
       "      <td>0</td>\n",
       "    </tr>\n",
       "    <tr>\n",
       "      <th>2</th>\n",
       "      <td>1623715213471096834</td>\n",
       "      <td>@_mp13_ prices are subject to change based on ...</td>\n",
       "      <td>2023-02-09 16:07:28+00:00</td>\n",
       "      <td>0</td>\n",
       "      <td>0</td>\n",
       "    </tr>\n",
       "    <tr>\n",
       "      <th>3</th>\n",
       "      <td>1623715003604910080</td>\n",
       "      <td>@AtlasXIV that's definitely not how we roll as...</td>\n",
       "      <td>2023-02-09 16:06:38+00:00</td>\n",
       "      <td>0</td>\n",
       "      <td>0</td>\n",
       "    </tr>\n",
       "    <tr>\n",
       "      <th>4</th>\n",
       "      <td>1623712961184374786</td>\n",
       "      <td>@zaysworst our World Famous Fries should never...</td>\n",
       "      <td>2023-02-09 15:58:31+00:00</td>\n",
       "      <td>0</td>\n",
       "      <td>0</td>\n",
       "    </tr>\n",
       "  </tbody>\n",
       "</table>\n",
       "</div>"
      ],
      "text/plain": [
       "                    id                                               text  \\\n",
       "0  1623718563302318086  @rikkitae we always want your order to be 100%...   \n",
       "1  1623717599430299650  @IceyTea__ we'd like to look into this for you...   \n",
       "2  1623715213471096834  @_mp13_ prices are subject to change based on ...   \n",
       "3  1623715003604910080  @AtlasXIV that's definitely not how we roll as...   \n",
       "4  1623712961184374786  @zaysworst our World Famous Fries should never...   \n",
       "\n",
       "                       date  likes  retweets  \n",
       "0 2023-02-09 16:20:47+00:00      0         0  \n",
       "1 2023-02-09 16:16:57+00:00      0         0  \n",
       "2 2023-02-09 16:07:28+00:00      0         0  \n",
       "3 2023-02-09 16:06:38+00:00      0         0  \n",
       "4 2023-02-09 15:58:31+00:00      0         0  "
      ]
     },
     "execution_count": 4,
     "metadata": {},
     "output_type": "execute_result"
    }
   ],
   "source": [
    "df.head()"
   ]
  },
  {
   "cell_type": "markdown",
   "id": "34270dd3",
   "metadata": {},
   "source": [
    "Spacex has a lot of tweets in a different language to english. This needs to be fixed as the ML is done on english words."
   ]
  },
  {
   "cell_type": "code",
   "execution_count": 5,
   "id": "60982814",
   "metadata": {
    "ExecuteTime": {
     "end_time": "2023-02-09T16:33:05.645435Z",
     "start_time": "2023-02-09T16:33:05.627914Z"
    }
   },
   "outputs": [
    {
     "data": {
      "text/html": [
       "<div>\n",
       "<style scoped>\n",
       "    .dataframe tbody tr th:only-of-type {\n",
       "        vertical-align: middle;\n",
       "    }\n",
       "\n",
       "    .dataframe tbody tr th {\n",
       "        vertical-align: top;\n",
       "    }\n",
       "\n",
       "    .dataframe thead th {\n",
       "        text-align: right;\n",
       "    }\n",
       "</style>\n",
       "<table border=\"1\" class=\"dataframe\">\n",
       "  <thead>\n",
       "    <tr style=\"text-align: right;\">\n",
       "      <th></th>\n",
       "      <th>id</th>\n",
       "      <th>text</th>\n",
       "      <th>date</th>\n",
       "      <th>likes</th>\n",
       "      <th>retweets</th>\n",
       "      <th>Sentiment_score</th>\n",
       "    </tr>\n",
       "  </thead>\n",
       "  <tbody>\n",
       "    <tr>\n",
       "      <th>0</th>\n",
       "      <td>1623718563302318086</td>\n",
       "      <td>@rikkitae we always want your order to be 100%...</td>\n",
       "      <td>2023-02-09 16:20:47+00:00</td>\n",
       "      <td>0</td>\n",
       "      <td>0</td>\n",
       "      <td>@rikkitae we always want your order to be 100%...</td>\n",
       "    </tr>\n",
       "    <tr>\n",
       "      <th>1</th>\n",
       "      <td>1623717599430299650</td>\n",
       "      <td>@IceyTea__ we'd like to look into this for you...</td>\n",
       "      <td>2023-02-09 16:16:57+00:00</td>\n",
       "      <td>0</td>\n",
       "      <td>0</td>\n",
       "      <td>@IceyTea__ we'd like to look into this for you...</td>\n",
       "    </tr>\n",
       "    <tr>\n",
       "      <th>2</th>\n",
       "      <td>1623715213471096834</td>\n",
       "      <td>@_mp13_ prices are subject to change based on ...</td>\n",
       "      <td>2023-02-09 16:07:28+00:00</td>\n",
       "      <td>0</td>\n",
       "      <td>0</td>\n",
       "      <td>@_mp13_ prices are subject to change based on ...</td>\n",
       "    </tr>\n",
       "    <tr>\n",
       "      <th>3</th>\n",
       "      <td>1623715003604910080</td>\n",
       "      <td>@AtlasXIV that's definitely not how we roll as...</td>\n",
       "      <td>2023-02-09 16:06:38+00:00</td>\n",
       "      <td>0</td>\n",
       "      <td>0</td>\n",
       "      <td>@AtlasXIV that's definitely not how we roll as...</td>\n",
       "    </tr>\n",
       "    <tr>\n",
       "      <th>4</th>\n",
       "      <td>1623712961184374786</td>\n",
       "      <td>@zaysworst our World Famous Fries should never...</td>\n",
       "      <td>2023-02-09 15:58:31+00:00</td>\n",
       "      <td>0</td>\n",
       "      <td>0</td>\n",
       "      <td>@zaysworst our World Famous Fries should never...</td>\n",
       "    </tr>\n",
       "  </tbody>\n",
       "</table>\n",
       "</div>"
      ],
      "text/plain": [
       "                    id                                               text  \\\n",
       "0  1623718563302318086  @rikkitae we always want your order to be 100%...   \n",
       "1  1623717599430299650  @IceyTea__ we'd like to look into this for you...   \n",
       "2  1623715213471096834  @_mp13_ prices are subject to change based on ...   \n",
       "3  1623715003604910080  @AtlasXIV that's definitely not how we roll as...   \n",
       "4  1623712961184374786  @zaysworst our World Famous Fries should never...   \n",
       "\n",
       "                       date  likes  retweets  \\\n",
       "0 2023-02-09 16:20:47+00:00      0         0   \n",
       "1 2023-02-09 16:16:57+00:00      0         0   \n",
       "2 2023-02-09 16:07:28+00:00      0         0   \n",
       "3 2023-02-09 16:06:38+00:00      0         0   \n",
       "4 2023-02-09 15:58:31+00:00      0         0   \n",
       "\n",
       "                                     Sentiment_score  \n",
       "0  @rikkitae we always want your order to be 100%...  \n",
       "1  @IceyTea__ we'd like to look into this for you...  \n",
       "2  @_mp13_ prices are subject to change based on ...  \n",
       "3  @AtlasXIV that's definitely not how we roll as...  \n",
       "4  @zaysworst our World Famous Fries should never...  "
      ]
     },
     "execution_count": 5,
     "metadata": {},
     "output_type": "execute_result"
    }
   ],
   "source": [
    "df['Sentiment_score'] = df['text']\n",
    "df.head()"
   ]
  },
  {
   "cell_type": "code",
   "execution_count": 6,
   "id": "849eaca2",
   "metadata": {
    "ExecuteTime": {
     "end_time": "2023-02-09T16:33:07.947792Z",
     "start_time": "2023-02-09T16:33:07.927184Z"
    }
   },
   "outputs": [],
   "source": [
    "#Defining a function to apply sentiment analysis\n",
    "def sentiment_evaluation(sentence):\n",
    " \n",
    "    # Create a SentimentIntensityAnalyzer object.\n",
    "    sid_object = SentimentIntensityAnalyzer()\n",
    "\n",
    "    sentiment_diction = sid_object.polarity_scores(sentence)\n",
    " \n",
    "    # decide sentiment as positive, negative and neutral\n",
    "    if sentiment_diction['compound'] >= 0.05:\n",
    "        return \"Positive\"\n",
    " \n",
    "    elif sentiment_diction['compound'] <= - 0.05 :\n",
    "        return \"Negative\"\n",
    " \n",
    "    else:\n",
    "         return \"Neutral\""
   ]
  },
  {
   "cell_type": "code",
   "execution_count": 7,
   "id": "cdc7a783",
   "metadata": {
    "ExecuteTime": {
     "end_time": "2023-02-09T16:33:10.103581Z",
     "start_time": "2023-02-09T16:33:10.088078Z"
    }
   },
   "outputs": [],
   "source": [
    "#Applying text blob to get rid of non-english tweets in SpaceX data\n",
    "#df['language'] = df['Sentiment_score'].apply(detect)\n",
    "#df.head()"
   ]
  },
  {
   "cell_type": "code",
   "execution_count": 8,
   "id": "651b0adc",
   "metadata": {
    "ExecuteTime": {
     "end_time": "2023-02-09T16:33:10.841546Z",
     "start_time": "2023-02-09T16:33:10.828470Z"
    }
   },
   "outputs": [],
   "source": [
    "#Dropping all non-english rows\n",
    "#df = df[df[\"language\"].str.contains(\"en\") == True]\n",
    "#df "
   ]
  },
  {
   "cell_type": "code",
   "execution_count": 9,
   "id": "0093d200",
   "metadata": {
    "ExecuteTime": {
     "end_time": "2023-02-09T16:33:13.967591Z",
     "start_time": "2023-02-09T16:33:11.568973Z"
    }
   },
   "outputs": [],
   "source": [
    "#Applying sentiment analysis to the tweet text\n",
    "df['Sentiment_score'] = df['Sentiment_score'].transform(sentiment_evaluation)"
   ]
  },
  {
   "cell_type": "code",
   "execution_count": 10,
   "id": "fc665a5b",
   "metadata": {
    "ExecuteTime": {
     "end_time": "2023-02-09T16:33:15.009253Z",
     "start_time": "2023-02-09T16:33:14.995938Z"
    }
   },
   "outputs": [
    {
     "data": {
      "text/html": [
       "<div>\n",
       "<style scoped>\n",
       "    .dataframe tbody tr th:only-of-type {\n",
       "        vertical-align: middle;\n",
       "    }\n",
       "\n",
       "    .dataframe tbody tr th {\n",
       "        vertical-align: top;\n",
       "    }\n",
       "\n",
       "    .dataframe thead th {\n",
       "        text-align: right;\n",
       "    }\n",
       "</style>\n",
       "<table border=\"1\" class=\"dataframe\">\n",
       "  <thead>\n",
       "    <tr style=\"text-align: right;\">\n",
       "      <th></th>\n",
       "      <th>id</th>\n",
       "      <th>text</th>\n",
       "      <th>date</th>\n",
       "      <th>likes</th>\n",
       "      <th>retweets</th>\n",
       "      <th>Sentiment_score</th>\n",
       "    </tr>\n",
       "  </thead>\n",
       "  <tbody>\n",
       "    <tr>\n",
       "      <th>0</th>\n",
       "      <td>1623718563302318086</td>\n",
       "      <td>@rikkitae we always want your order to be 100% accurate, Rikki. connect with us here: https://t.co/MOjDkbDTZR</td>\n",
       "      <td>2023-02-09 16:20:47+00:00</td>\n",
       "      <td>0</td>\n",
       "      <td>0</td>\n",
       "      <td>Positive</td>\n",
       "    </tr>\n",
       "    <tr>\n",
       "      <th>1</th>\n",
       "      <td>1623717599430299650</td>\n",
       "      <td>@IceyTea__ we'd like to look into this for you. do share more info here: https://t.co/MOjDkbDTZR</td>\n",
       "      <td>2023-02-09 16:16:57+00:00</td>\n",
       "      <td>0</td>\n",
       "      <td>0</td>\n",
       "      <td>Positive</td>\n",
       "    </tr>\n",
       "    <tr>\n",
       "      <th>2</th>\n",
       "      <td>1623715213471096834</td>\n",
       "      <td>@_mp13_ prices are subject to change based on location and food costs, Maddie. you can still download our McDonald'… https://t.co/fT9pc53uzN</td>\n",
       "      <td>2023-02-09 16:07:28+00:00</td>\n",
       "      <td>0</td>\n",
       "      <td>0</td>\n",
       "      <td>Neutral</td>\n",
       "    </tr>\n",
       "    <tr>\n",
       "      <th>3</th>\n",
       "      <td>1623715003604910080</td>\n",
       "      <td>@AtlasXIV that's definitely not how we roll as order accuracy is essential, Atlas. share more details here: https://t.co/MOjDkbDTZR</td>\n",
       "      <td>2023-02-09 16:06:38+00:00</td>\n",
       "      <td>0</td>\n",
       "      <td>0</td>\n",
       "      <td>Positive</td>\n",
       "    </tr>\n",
       "    <tr>\n",
       "      <th>4</th>\n",
       "      <td>1623712961184374786</td>\n",
       "      <td>@zaysworst our World Famous Fries should never disappoint you. do talk to us here: https://t.co/MOjDkbDTZR</td>\n",
       "      <td>2023-02-09 15:58:31+00:00</td>\n",
       "      <td>0</td>\n",
       "      <td>0</td>\n",
       "      <td>Positive</td>\n",
       "    </tr>\n",
       "    <tr>\n",
       "      <th>...</th>\n",
       "      <td>...</td>\n",
       "      <td>...</td>\n",
       "      <td>...</td>\n",
       "      <td>...</td>\n",
       "      <td>...</td>\n",
       "      <td>...</td>\n",
       "    </tr>\n",
       "    <tr>\n",
       "      <th>195</th>\n",
       "      <td>1623342244416593922</td>\n",
       "      <td>@Queen_Kaci we always want your order to be on point, Kaci. let's connect here: https://t.co/MOjDkbDTZR</td>\n",
       "      <td>2023-02-08 15:25:25+00:00</td>\n",
       "      <td>0</td>\n",
       "      <td>0</td>\n",
       "      <td>Positive</td>\n",
       "    </tr>\n",
       "    <tr>\n",
       "      <th>196</th>\n",
       "      <td>1623342181510512640</td>\n",
       "      <td>@JakksonWolfe menu item availability depends on the individual restaurant, Mark. we recommend you to check with oth… https://t.co/kQrtb3udzr</td>\n",
       "      <td>2023-02-08 15:25:10+00:00</td>\n",
       "      <td>1</td>\n",
       "      <td>0</td>\n",
       "      <td>Positive</td>\n",
       "    </tr>\n",
       "    <tr>\n",
       "      <th>197</th>\n",
       "      <td>1623340335333081089</td>\n",
       "      <td>@muymalapalabra we hate to let you down! connect with us here:\\nhttps://t.co/MOjDkbDTZR</td>\n",
       "      <td>2023-02-08 15:17:50+00:00</td>\n",
       "      <td>0</td>\n",
       "      <td>0</td>\n",
       "      <td>Negative</td>\n",
       "    </tr>\n",
       "    <tr>\n",
       "      <th>198</th>\n",
       "      <td>1623333569413226497</td>\n",
       "      <td>@TOEGOTTI prices are up to the restaurant owner to decide. location and food costs cause prices to vary. download t… https://t.co/3tjCmSJHbq</td>\n",
       "      <td>2023-02-08 14:50:57+00:00</td>\n",
       "      <td>0</td>\n",
       "      <td>0</td>\n",
       "      <td>Neutral</td>\n",
       "    </tr>\n",
       "    <tr>\n",
       "      <th>199</th>\n",
       "      <td>1623333275585417216</td>\n",
       "      <td>@lea_elizabethhh we always intend to serve you right, Lea. get back to us here: https://t.co/MOjDkbDTZR</td>\n",
       "      <td>2023-02-08 14:49:47+00:00</td>\n",
       "      <td>0</td>\n",
       "      <td>0</td>\n",
       "      <td>Neutral</td>\n",
       "    </tr>\n",
       "  </tbody>\n",
       "</table>\n",
       "<p>200 rows × 6 columns</p>\n",
       "</div>"
      ],
      "text/plain": [
       "                      id  \\\n",
       "0    1623718563302318086   \n",
       "1    1623717599430299650   \n",
       "2    1623715213471096834   \n",
       "3    1623715003604910080   \n",
       "4    1623712961184374786   \n",
       "..                   ...   \n",
       "195  1623342244416593922   \n",
       "196  1623342181510512640   \n",
       "197  1623340335333081089   \n",
       "198  1623333569413226497   \n",
       "199  1623333275585417216   \n",
       "\n",
       "                                                                                                                                             text  \\\n",
       "0                                   @rikkitae we always want your order to be 100% accurate, Rikki. connect with us here: https://t.co/MOjDkbDTZR   \n",
       "1                                                @IceyTea__ we'd like to look into this for you. do share more info here: https://t.co/MOjDkbDTZR   \n",
       "2    @_mp13_ prices are subject to change based on location and food costs, Maddie. you can still download our McDonald'… https://t.co/fT9pc53uzN   \n",
       "3             @AtlasXIV that's definitely not how we roll as order accuracy is essential, Atlas. share more details here: https://t.co/MOjDkbDTZR   \n",
       "4                                      @zaysworst our World Famous Fries should never disappoint you. do talk to us here: https://t.co/MOjDkbDTZR   \n",
       "..                                                                                                                                            ...   \n",
       "195                                       @Queen_Kaci we always want your order to be on point, Kaci. let's connect here: https://t.co/MOjDkbDTZR   \n",
       "196  @JakksonWolfe menu item availability depends on the individual restaurant, Mark. we recommend you to check with oth… https://t.co/kQrtb3udzr   \n",
       "197                                                       @muymalapalabra we hate to let you down! connect with us here:\\nhttps://t.co/MOjDkbDTZR   \n",
       "198  @TOEGOTTI prices are up to the restaurant owner to decide. location and food costs cause prices to vary. download t… https://t.co/3tjCmSJHbq   \n",
       "199                                       @lea_elizabethhh we always intend to serve you right, Lea. get back to us here: https://t.co/MOjDkbDTZR   \n",
       "\n",
       "                         date  likes  retweets Sentiment_score  \n",
       "0   2023-02-09 16:20:47+00:00      0         0        Positive  \n",
       "1   2023-02-09 16:16:57+00:00      0         0        Positive  \n",
       "2   2023-02-09 16:07:28+00:00      0         0         Neutral  \n",
       "3   2023-02-09 16:06:38+00:00      0         0        Positive  \n",
       "4   2023-02-09 15:58:31+00:00      0         0        Positive  \n",
       "..                        ...    ...       ...             ...  \n",
       "195 2023-02-08 15:25:25+00:00      0         0        Positive  \n",
       "196 2023-02-08 15:25:10+00:00      1         0        Positive  \n",
       "197 2023-02-08 15:17:50+00:00      0         0        Negative  \n",
       "198 2023-02-08 14:50:57+00:00      0         0         Neutral  \n",
       "199 2023-02-08 14:49:47+00:00      0         0         Neutral  \n",
       "\n",
       "[200 rows x 6 columns]"
      ]
     },
     "execution_count": 10,
     "metadata": {},
     "output_type": "execute_result"
    }
   ],
   "source": [
    "pd.options.display.max_colwidth=200\n",
    "pd.options.display.max_rows=100\n",
    "df"
   ]
  },
  {
   "cell_type": "code",
   "execution_count": 11,
   "id": "f6407fc2",
   "metadata": {
    "ExecuteTime": {
     "end_time": "2023-02-09T16:33:18.236212Z",
     "start_time": "2023-02-09T16:33:18.226601Z"
    }
   },
   "outputs": [
    {
     "data": {
      "text/plain": [
       "Positive    133\n",
       "Neutral      49\n",
       "Negative     18\n",
       "Name: Sentiment_score, dtype: int64"
      ]
     },
     "execution_count": 11,
     "metadata": {},
     "output_type": "execute_result"
    }
   ],
   "source": [
    "df['Sentiment_score'].value_counts()"
   ]
  },
  {
   "cell_type": "code",
   "execution_count": 12,
   "id": "105ccc3d",
   "metadata": {
    "ExecuteTime": {
     "end_time": "2023-02-09T16:33:23.401004Z",
     "start_time": "2023-02-09T16:33:23.390270Z"
    }
   },
   "outputs": [],
   "source": [
    "#df.to_csv('Mcdonalds_twitter.csv', index=False)"
   ]
  },
  {
   "cell_type": "markdown",
   "id": "734b159c",
   "metadata": {},
   "source": [
    "# 2.0 ML"
   ]
  },
  {
   "cell_type": "code",
   "execution_count": 32,
   "id": "8cfc677a",
   "metadata": {
    "ExecuteTime": {
     "end_time": "2023-02-09T17:03:25.815492Z",
     "start_time": "2023-02-09T17:03:25.800957Z"
    }
   },
   "outputs": [],
   "source": [
    "#Importing necessary libraries\n",
    "\n",
    "import re\n",
    "import string\n",
    "from nltk.corpus import stopwords\n",
    "from nltk.stem import PorterStemmer\n",
    "from nltk.tokenize import TweetTokenizer\n",
    "import numpy as np\n",
    "from sklearn.preprocessing import LabelEncoder\n",
    "from sklearn.model_selection import train_test_split, StratifiedKFold\n",
    "from sklearn.feature_extraction.text import CountVectorizer\n",
    "from sklearn.metrics import accuracy_score, cohen_kappa_score, f1_score, classification_report, confusion_matrix\n",
    "from sklearn.naive_bayes import MultinomialNB\n",
    "from sklearn.ensemble import RandomForestClassifier\n",
    "from sklearn.linear_model import LogisticRegression\n",
    "import seaborn as sns"
   ]
  },
  {
   "cell_type": "markdown",
   "id": "e85cb19b",
   "metadata": {},
   "source": [
    "## 2.1 Pre-processing"
   ]
  },
  {
   "cell_type": "code",
   "execution_count": 14,
   "id": "3d14fcb3",
   "metadata": {
    "ExecuteTime": {
     "end_time": "2023-02-09T16:33:40.211882Z",
     "start_time": "2023-02-09T16:33:40.187097Z"
    }
   },
   "outputs": [],
   "source": [
    "df2 = pd.read_csv('All_twitter.csv')"
   ]
  },
  {
   "cell_type": "code",
   "execution_count": 15,
   "id": "bfe7e8b7",
   "metadata": {
    "ExecuteTime": {
     "end_time": "2023-02-09T16:33:48.744008Z",
     "start_time": "2023-02-09T16:33:48.728473Z"
    }
   },
   "outputs": [
    {
     "data": {
      "text/html": [
       "<div>\n",
       "<style scoped>\n",
       "    .dataframe tbody tr th:only-of-type {\n",
       "        vertical-align: middle;\n",
       "    }\n",
       "\n",
       "    .dataframe tbody tr th {\n",
       "        vertical-align: top;\n",
       "    }\n",
       "\n",
       "    .dataframe thead th {\n",
       "        text-align: right;\n",
       "    }\n",
       "</style>\n",
       "<table border=\"1\" class=\"dataframe\">\n",
       "  <thead>\n",
       "    <tr style=\"text-align: right;\">\n",
       "      <th></th>\n",
       "      <th>id</th>\n",
       "      <th>text</th>\n",
       "      <th>date</th>\n",
       "      <th>likes</th>\n",
       "      <th>retweets</th>\n",
       "      <th>Sentiment_score</th>\n",
       "      <th>Sentiment_encoded</th>\n",
       "    </tr>\n",
       "  </thead>\n",
       "  <tbody>\n",
       "    <tr>\n",
       "      <th>0</th>\n",
       "      <td>1.620000e+18</td>\n",
       "      <td>@BvsNARD Oh no! Please DM us your email address so we can make this right. Thanks!</td>\n",
       "      <td>2023-02-09 01:35:58+00:00</td>\n",
       "      <td>0</td>\n",
       "      <td>0</td>\n",
       "      <td>Positive</td>\n",
       "      <td>2</td>\n",
       "    </tr>\n",
       "    <tr>\n",
       "      <th>1</th>\n",
       "      <td>1.620000e+18</td>\n",
       "      <td>@AndrewFnWheeler Oh no! Please DM us your email address so we can make this right. Thanks!</td>\n",
       "      <td>2023-02-09 01:35:31+00:00</td>\n",
       "      <td>0</td>\n",
       "      <td>0</td>\n",
       "      <td>Positive</td>\n",
       "      <td>2</td>\n",
       "    </tr>\n",
       "    <tr>\n",
       "      <th>2</th>\n",
       "      <td>1.620000e+18</td>\n",
       "      <td>@empresss_j Oh no! Please DM us the restaurant location and your email address so we can make this right. Thanks!</td>\n",
       "      <td>2023-02-09 01:35:15+00:00</td>\n",
       "      <td>0</td>\n",
       "      <td>0</td>\n",
       "      <td>Positive</td>\n",
       "      <td>2</td>\n",
       "    </tr>\n",
       "    <tr>\n",
       "      <th>3</th>\n",
       "      <td>1.620000e+18</td>\n",
       "      <td>@buckymalone703 Hard to argue</td>\n",
       "      <td>2023-02-07 16:25:33+00:00</td>\n",
       "      <td>3</td>\n",
       "      <td>1</td>\n",
       "      <td>Negative</td>\n",
       "      <td>0</td>\n",
       "    </tr>\n",
       "    <tr>\n",
       "      <th>4</th>\n",
       "      <td>1.620000e+18</td>\n",
       "      <td>@ceespejel 👀👀👀👀👀👀👀</td>\n",
       "      <td>2023-02-07 03:11:44+00:00</td>\n",
       "      <td>5</td>\n",
       "      <td>0</td>\n",
       "      <td>Neutral</td>\n",
       "      <td>1</td>\n",
       "    </tr>\n",
       "    <tr>\n",
       "      <th>...</th>\n",
       "      <td>...</td>\n",
       "      <td>...</td>\n",
       "      <td>...</td>\n",
       "      <td>...</td>\n",
       "      <td>...</td>\n",
       "      <td>...</td>\n",
       "      <td>...</td>\n",
       "    </tr>\n",
       "    <tr>\n",
       "      <th>1394</th>\n",
       "      <td>1.603540e+18</td>\n",
       "      <td>@MayAlhajri2 Chip! 😍</td>\n",
       "      <td>2022-12-15 23:58:21+00:00</td>\n",
       "      <td>1</td>\n",
       "      <td>0</td>\n",
       "      <td>Positive</td>\n",
       "      <td>2</td>\n",
       "    </tr>\n",
       "    <tr>\n",
       "      <th>1395</th>\n",
       "      <td>1.603540e+18</td>\n",
       "      <td>@JenMsft Too real. 😂</td>\n",
       "      <td>2022-12-15 23:56:42+00:00</td>\n",
       "      <td>14</td>\n",
       "      <td>1</td>\n",
       "      <td>Positive</td>\n",
       "      <td>2</td>\n",
       "    </tr>\n",
       "    <tr>\n",
       "      <th>1396</th>\n",
       "      <td>1.603540e+18</td>\n",
       "      <td>RT @MicrosoftDesign: In our latest #UX film 🎬, our in-house motion team explores the new macro interactions alongside the new look + feel f…</td>\n",
       "      <td>2022-12-15 23:55:23+00:00</td>\n",
       "      <td>0</td>\n",
       "      <td>169</td>\n",
       "      <td>Neutral</td>\n",
       "      <td>1</td>\n",
       "    </tr>\n",
       "    <tr>\n",
       "      <th>1397</th>\n",
       "      <td>1.603520e+18</td>\n",
       "      <td>With AI, Microsoft products power billions of intelligent experiences every day. \\n\\nNow, you can write code, create… https://t.co/Irb3R4T1z2</td>\n",
       "      <td>2022-12-15 22:35:52+00:00</td>\n",
       "      <td>177</td>\n",
       "      <td>34</td>\n",
       "      <td>Positive</td>\n",
       "      <td>2</td>\n",
       "    </tr>\n",
       "    <tr>\n",
       "      <th>1398</th>\n",
       "      <td>1.603480e+18</td>\n",
       "      <td>RT @PlayCraftLearn: Sharpen up your computer science skills! 🖥️ You'll need to debug the trickiest of codes if you plan on escaping this my…</td>\n",
       "      <td>2022-12-15 20:14:01+00:00</td>\n",
       "      <td>0</td>\n",
       "      <td>95</td>\n",
       "      <td>Negative</td>\n",
       "      <td>0</td>\n",
       "    </tr>\n",
       "  </tbody>\n",
       "</table>\n",
       "<p>1399 rows × 7 columns</p>\n",
       "</div>"
      ],
      "text/plain": [
       "                id  \\\n",
       "0     1.620000e+18   \n",
       "1     1.620000e+18   \n",
       "2     1.620000e+18   \n",
       "3     1.620000e+18   \n",
       "4     1.620000e+18   \n",
       "...            ...   \n",
       "1394  1.603540e+18   \n",
       "1395  1.603540e+18   \n",
       "1396  1.603540e+18   \n",
       "1397  1.603520e+18   \n",
       "1398  1.603480e+18   \n",
       "\n",
       "                                                                                                                                               text  \\\n",
       "0                                                                @BvsNARD Oh no! Please DM us your email address so we can make this right. Thanks!   \n",
       "1                                                        @AndrewFnWheeler Oh no! Please DM us your email address so we can make this right. Thanks!   \n",
       "2                                 @empresss_j Oh no! Please DM us the restaurant location and your email address so we can make this right. Thanks!   \n",
       "3                                                                                                                     @buckymalone703 Hard to argue   \n",
       "4                                                                                                                                @ceespejel 👀👀👀👀👀👀👀   \n",
       "...                                                                                                                                             ...   \n",
       "1394                                                                                                                           @MayAlhajri2 Chip! 😍   \n",
       "1395                                                                                                                           @JenMsft Too real. 😂   \n",
       "1396   RT @MicrosoftDesign: In our latest #UX film 🎬, our in-house motion team explores the new macro interactions alongside the new look + feel f…   \n",
       "1397  With AI, Microsoft products power billions of intelligent experiences every day. \\n\\nNow, you can write code, create… https://t.co/Irb3R4T1z2   \n",
       "1398   RT @PlayCraftLearn: Sharpen up your computer science skills! 🖥️ You'll need to debug the trickiest of codes if you plan on escaping this my…   \n",
       "\n",
       "                           date  likes  retweets Sentiment_score  \\\n",
       "0     2023-02-09 01:35:58+00:00      0         0        Positive   \n",
       "1     2023-02-09 01:35:31+00:00      0         0        Positive   \n",
       "2     2023-02-09 01:35:15+00:00      0         0        Positive   \n",
       "3     2023-02-07 16:25:33+00:00      3         1        Negative   \n",
       "4     2023-02-07 03:11:44+00:00      5         0         Neutral   \n",
       "...                         ...    ...       ...             ...   \n",
       "1394  2022-12-15 23:58:21+00:00      1         0        Positive   \n",
       "1395  2022-12-15 23:56:42+00:00     14         1        Positive   \n",
       "1396  2022-12-15 23:55:23+00:00      0       169         Neutral   \n",
       "1397  2022-12-15 22:35:52+00:00    177        34        Positive   \n",
       "1398  2022-12-15 20:14:01+00:00      0        95        Negative   \n",
       "\n",
       "      Sentiment_encoded  \n",
       "0                     2  \n",
       "1                     2  \n",
       "2                     2  \n",
       "3                     0  \n",
       "4                     1  \n",
       "...                 ...  \n",
       "1394                  2  \n",
       "1395                  2  \n",
       "1396                  1  \n",
       "1397                  2  \n",
       "1398                  0  \n",
       "\n",
       "[1399 rows x 7 columns]"
      ]
     },
     "execution_count": 15,
     "metadata": {},
     "output_type": "execute_result"
    }
   ],
   "source": [
    "#Label-encoding the sentiment score\n",
    "\n",
    "df2['Sentiment_encoded'] = df2['Sentiment_score']\n",
    "\n",
    "label_encoder = LabelEncoder()\n",
    "df2['Sentiment_encoded'] = label_encoder.fit_transform(df2['Sentiment_encoded'])\n",
    "df2"
   ]
  },
  {
   "cell_type": "code",
   "execution_count": 16,
   "id": "79a15b1d",
   "metadata": {
    "ExecuteTime": {
     "end_time": "2023-02-09T16:33:55.097943Z",
     "start_time": "2023-02-09T16:33:55.082610Z"
    }
   },
   "outputs": [
    {
     "data": {
      "text/plain": [
       "2    684\n",
       "1    583\n",
       "0    132\n",
       "Name: Sentiment_encoded, dtype: int64"
      ]
     },
     "execution_count": 16,
     "metadata": {},
     "output_type": "execute_result"
    }
   ],
   "source": [
    "df2['Sentiment_encoded'].value_counts()"
   ]
  },
  {
   "cell_type": "code",
   "execution_count": 17,
   "id": "f492ddf3",
   "metadata": {
    "ExecuteTime": {
     "end_time": "2023-02-09T16:34:24.373230Z",
     "start_time": "2023-02-09T16:34:24.361246Z"
    }
   },
   "outputs": [],
   "source": [
    "#Preprocessing tweets\n",
    "def process_tweet(text):\n",
    "    text = str(text).lower()\n",
    "    text = re.sub(\n",
    "        f\"[{re.escape(string.punctuation)}]\", \" \", text\n",
    "    )\n",
    "    text = \" \".join(text.split())\n",
    "    return text"
   ]
  },
  {
   "cell_type": "code",
   "execution_count": 18,
   "id": "02748f8d",
   "metadata": {
    "ExecuteTime": {
     "end_time": "2023-02-09T16:34:41.476929Z",
     "start_time": "2023-02-09T16:34:41.446336Z"
    }
   },
   "outputs": [
    {
     "data": {
      "text/html": [
       "<div>\n",
       "<style scoped>\n",
       "    .dataframe tbody tr th:only-of-type {\n",
       "        vertical-align: middle;\n",
       "    }\n",
       "\n",
       "    .dataframe tbody tr th {\n",
       "        vertical-align: top;\n",
       "    }\n",
       "\n",
       "    .dataframe thead th {\n",
       "        text-align: right;\n",
       "    }\n",
       "</style>\n",
       "<table border=\"1\" class=\"dataframe\">\n",
       "  <thead>\n",
       "    <tr style=\"text-align: right;\">\n",
       "      <th></th>\n",
       "      <th>id</th>\n",
       "      <th>text</th>\n",
       "      <th>date</th>\n",
       "      <th>likes</th>\n",
       "      <th>retweets</th>\n",
       "      <th>Sentiment_score</th>\n",
       "      <th>Sentiment_encoded</th>\n",
       "      <th>clean_text</th>\n",
       "    </tr>\n",
       "  </thead>\n",
       "  <tbody>\n",
       "    <tr>\n",
       "      <th>0</th>\n",
       "      <td>1.620000e+18</td>\n",
       "      <td>@BvsNARD Oh no! Please DM us your email address so we can make this right. Thanks!</td>\n",
       "      <td>2023-02-09 01:35:58+00:00</td>\n",
       "      <td>0</td>\n",
       "      <td>0</td>\n",
       "      <td>Positive</td>\n",
       "      <td>2</td>\n",
       "      <td>bvsnard oh no please dm us your email address so we can make this right thanks</td>\n",
       "    </tr>\n",
       "    <tr>\n",
       "      <th>1</th>\n",
       "      <td>1.620000e+18</td>\n",
       "      <td>@AndrewFnWheeler Oh no! Please DM us your email address so we can make this right. Thanks!</td>\n",
       "      <td>2023-02-09 01:35:31+00:00</td>\n",
       "      <td>0</td>\n",
       "      <td>0</td>\n",
       "      <td>Positive</td>\n",
       "      <td>2</td>\n",
       "      <td>andrewfnwheeler oh no please dm us your email address so we can make this right thanks</td>\n",
       "    </tr>\n",
       "    <tr>\n",
       "      <th>2</th>\n",
       "      <td>1.620000e+18</td>\n",
       "      <td>@empresss_j Oh no! Please DM us the restaurant location and your email address so we can make this right. Thanks!</td>\n",
       "      <td>2023-02-09 01:35:15+00:00</td>\n",
       "      <td>0</td>\n",
       "      <td>0</td>\n",
       "      <td>Positive</td>\n",
       "      <td>2</td>\n",
       "      <td>empresss j oh no please dm us the restaurant location and your email address so we can make this right thanks</td>\n",
       "    </tr>\n",
       "    <tr>\n",
       "      <th>3</th>\n",
       "      <td>1.620000e+18</td>\n",
       "      <td>@buckymalone703 Hard to argue</td>\n",
       "      <td>2023-02-07 16:25:33+00:00</td>\n",
       "      <td>3</td>\n",
       "      <td>1</td>\n",
       "      <td>Negative</td>\n",
       "      <td>0</td>\n",
       "      <td>buckymalone703 hard to argue</td>\n",
       "    </tr>\n",
       "    <tr>\n",
       "      <th>4</th>\n",
       "      <td>1.620000e+18</td>\n",
       "      <td>@ceespejel 👀👀👀👀👀👀👀</td>\n",
       "      <td>2023-02-07 03:11:44+00:00</td>\n",
       "      <td>5</td>\n",
       "      <td>0</td>\n",
       "      <td>Neutral</td>\n",
       "      <td>1</td>\n",
       "      <td>ceespejel 👀👀👀👀👀👀👀</td>\n",
       "    </tr>\n",
       "  </tbody>\n",
       "</table>\n",
       "</div>"
      ],
      "text/plain": [
       "             id  \\\n",
       "0  1.620000e+18   \n",
       "1  1.620000e+18   \n",
       "2  1.620000e+18   \n",
       "3  1.620000e+18   \n",
       "4  1.620000e+18   \n",
       "\n",
       "                                                                                                                text  \\\n",
       "0                                 @BvsNARD Oh no! Please DM us your email address so we can make this right. Thanks!   \n",
       "1                         @AndrewFnWheeler Oh no! Please DM us your email address so we can make this right. Thanks!   \n",
       "2  @empresss_j Oh no! Please DM us the restaurant location and your email address so we can make this right. Thanks!   \n",
       "3                                                                                      @buckymalone703 Hard to argue   \n",
       "4                                                                                                 @ceespejel 👀👀👀👀👀👀👀   \n",
       "\n",
       "                        date  likes  retweets Sentiment_score  \\\n",
       "0  2023-02-09 01:35:58+00:00      0         0        Positive   \n",
       "1  2023-02-09 01:35:31+00:00      0         0        Positive   \n",
       "2  2023-02-09 01:35:15+00:00      0         0        Positive   \n",
       "3  2023-02-07 16:25:33+00:00      3         1        Negative   \n",
       "4  2023-02-07 03:11:44+00:00      5         0         Neutral   \n",
       "\n",
       "   Sentiment_encoded  \\\n",
       "0                  2   \n",
       "1                  2   \n",
       "2                  2   \n",
       "3                  0   \n",
       "4                  1   \n",
       "\n",
       "                                                                                                      clean_text  \n",
       "0                                 bvsnard oh no please dm us your email address so we can make this right thanks  \n",
       "1                         andrewfnwheeler oh no please dm us your email address so we can make this right thanks  \n",
       "2  empresss j oh no please dm us the restaurant location and your email address so we can make this right thanks  \n",
       "3                                                                                   buckymalone703 hard to argue  \n",
       "4                                                                                              ceespejel 👀👀👀👀👀👀👀  "
      ]
     },
     "execution_count": 18,
     "metadata": {},
     "output_type": "execute_result"
    }
   ],
   "source": [
    "#Pre-processing the tweets\n",
    "\n",
    "df2[\"clean_text\"] = df2.text.map(process_tweet)\n",
    "df2.head()"
   ]
  },
  {
   "cell_type": "code",
   "execution_count": 19,
   "id": "183c3eaf",
   "metadata": {
    "ExecuteTime": {
     "end_time": "2023-02-09T16:49:56.591532Z",
     "start_time": "2023-02-09T16:49:56.582533Z"
    }
   },
   "outputs": [],
   "source": [
    "#Defining dataframes for each category\n",
    "df_positive = df2[df2.Sentiment_encoded == 2]\n",
    "df_neutral = df2[df2.Sentiment_encoded == 1]\n",
    "df_negative = df2[df2.Sentiment_encoded == 0]"
   ]
  },
  {
   "cell_type": "code",
   "execution_count": 20,
   "id": "54e09cbc",
   "metadata": {
    "ExecuteTime": {
     "end_time": "2023-02-09T16:53:37.696045Z",
     "start_time": "2023-02-09T16:53:37.673762Z"
    }
   },
   "outputs": [
    {
     "data": {
      "text/plain": [
       "Negative    132\n",
       "Neutral     132\n",
       "Positive    132\n",
       "Name: Sentiment_score, dtype: int64"
      ]
     },
     "execution_count": 20,
     "metadata": {},
     "output_type": "execute_result"
    }
   ],
   "source": [
    "#Undersampling to balance the dataset\n",
    "df_positive = df_positive.sample(n=len(df_negative), random_state=101)\n",
    "df_neutral = df_neutral.sample(n=len(df_negative), random_state=101)\n",
    "df_balanced = pd.concat([df_negative, df_neutral,df_positive],axis=0)\n",
    "df_balanced['Sentiment_score'].value_counts()"
   ]
  },
  {
   "cell_type": "code",
   "execution_count": 21,
   "id": "3456fe46",
   "metadata": {
    "ExecuteTime": {
     "end_time": "2023-02-09T16:54:56.562699Z",
     "start_time": "2023-02-09T16:54:56.534525Z"
    },
    "collapsed": true
   },
   "outputs": [
    {
     "data": {
      "text/html": [
       "<div>\n",
       "<style scoped>\n",
       "    .dataframe tbody tr th:only-of-type {\n",
       "        vertical-align: middle;\n",
       "    }\n",
       "\n",
       "    .dataframe tbody tr th {\n",
       "        vertical-align: top;\n",
       "    }\n",
       "\n",
       "    .dataframe thead th {\n",
       "        text-align: right;\n",
       "    }\n",
       "</style>\n",
       "<table border=\"1\" class=\"dataframe\">\n",
       "  <thead>\n",
       "    <tr style=\"text-align: right;\">\n",
       "      <th></th>\n",
       "      <th>id</th>\n",
       "      <th>text</th>\n",
       "      <th>date</th>\n",
       "      <th>likes</th>\n",
       "      <th>retweets</th>\n",
       "      <th>Sentiment_score</th>\n",
       "      <th>Sentiment_encoded</th>\n",
       "      <th>clean_text</th>\n",
       "    </tr>\n",
       "  </thead>\n",
       "  <tbody>\n",
       "    <tr>\n",
       "      <th>0</th>\n",
       "      <td>1.620000e+18</td>\n",
       "      <td>New T-0 of 4:32 a.m. ET for this morning’s Falcon 9 launch of Starlink; weather is 70% favorable for liftoff</td>\n",
       "      <td>2023-01-26 08:40:46+00:00</td>\n",
       "      <td>2864</td>\n",
       "      <td>302</td>\n",
       "      <td>Positive</td>\n",
       "      <td>2</td>\n",
       "      <td>new t 0 of 4 32 a m et for this morning’s falcon 9 launch of starlink weather is 70 favorable for liftoff</td>\n",
       "    </tr>\n",
       "    <tr>\n",
       "      <th>1</th>\n",
       "      <td>1.620000e+18</td>\n",
       "      <td>@Millions I'm just reading.</td>\n",
       "      <td>2023-02-01 17:08:09+00:00</td>\n",
       "      <td>408</td>\n",
       "      <td>1</td>\n",
       "      <td>Neutral</td>\n",
       "      <td>1</td>\n",
       "      <td>millions i m just reading</td>\n",
       "    </tr>\n",
       "    <tr>\n",
       "      <th>2</th>\n",
       "      <td>1.623610e+18</td>\n",
       "      <td>@diannasff we'd like to know more about this. talk to us here: https://t.co/MOjDkbDTZR</td>\n",
       "      <td>2023-02-09 09:11:14+00:00</td>\n",
       "      <td>0</td>\n",
       "      <td>0</td>\n",
       "      <td>Positive</td>\n",
       "      <td>2</td>\n",
       "      <td>diannasff we d like to know more about this talk to us here https t co mojdkbdtzr</td>\n",
       "    </tr>\n",
       "    <tr>\n",
       "      <th>3</th>\n",
       "      <td>1.620000e+18</td>\n",
       "      <td>@QuDeuce Hi, Qudeuce. You can see the participants in a meeting by following these steps: In the upper left corner,… https://t.co/1A7uSBQXVt</td>\n",
       "      <td>2023-02-08 10:39:18+00:00</td>\n",
       "      <td>1</td>\n",
       "      <td>0</td>\n",
       "      <td>Neutral</td>\n",
       "      <td>1</td>\n",
       "      <td>qudeuce hi qudeuce you can see the participants in a meeting by following these steps in the upper left corner … https t co 1a7usbqxvt</td>\n",
       "    </tr>\n",
       "    <tr>\n",
       "      <th>4</th>\n",
       "      <td>1.610000e+18</td>\n",
       "      <td>Falcon 9 launches SpaceX’s sixth dedicated smallsat rideshare mission – completing our 200th successful launch! https://t.co/SIaypHsMur</td>\n",
       "      <td>2023-01-03 20:30:22+00:00</td>\n",
       "      <td>12589</td>\n",
       "      <td>1317</td>\n",
       "      <td>Positive</td>\n",
       "      <td>2</td>\n",
       "      <td>falcon 9 launches spacex’s sixth dedicated smallsat rideshare mission – completing our 200th successful launch https t co siayphsmur</td>\n",
       "    </tr>\n",
       "    <tr>\n",
       "      <th>...</th>\n",
       "      <td>...</td>\n",
       "      <td>...</td>\n",
       "      <td>...</td>\n",
       "      <td>...</td>\n",
       "      <td>...</td>\n",
       "      <td>...</td>\n",
       "      <td>...</td>\n",
       "      <td>...</td>\n",
       "    </tr>\n",
       "    <tr>\n",
       "      <th>391</th>\n",
       "      <td>1.620000e+18</td>\n",
       "      <td>@Biswaji50827917 Hi Biswajit. We'd like to move this conversation to DM. Please follow us and let us know when you… https://t.co/42R9maLZ3I</td>\n",
       "      <td>2023-02-07 05:10:14+00:00</td>\n",
       "      <td>0</td>\n",
       "      <td>0</td>\n",
       "      <td>Positive</td>\n",
       "      <td>2</td>\n",
       "      <td>biswaji50827917 hi biswajit we d like to move this conversation to dm please follow us and let us know when you… https t co 42r9malz3i</td>\n",
       "    </tr>\n",
       "    <tr>\n",
       "      <th>392</th>\n",
       "      <td>1.600000e+18</td>\n",
       "      <td>Watch Falcon 9 launch the @SES_Satellites O3b mPOWER mission to orbit → https://t.co/bJFjLCzWdK https://t.co/SqeA1SSTsu</td>\n",
       "      <td>2022-12-16 22:35:51+00:00</td>\n",
       "      <td>3751</td>\n",
       "      <td>685</td>\n",
       "      <td>Neutral</td>\n",
       "      <td>1</td>\n",
       "      <td>watch falcon 9 launch the ses satellites o3b mpower mission to orbit → https t co bjfjlczwdk https t co sqea1sstsu</td>\n",
       "    </tr>\n",
       "    <tr>\n",
       "      <th>393</th>\n",
       "      <td>1.620000e+18</td>\n",
       "      <td>@nicnacpattiwac6 @JKillJagSwag904 Nothing but respect for a quality baked potato</td>\n",
       "      <td>2023-01-22 18:55:37+00:00</td>\n",
       "      <td>2060</td>\n",
       "      <td>42</td>\n",
       "      <td>Negative</td>\n",
       "      <td>0</td>\n",
       "      <td>nicnacpattiwac6 jkilljagswag904 nothing but respect for a quality baked potato</td>\n",
       "    </tr>\n",
       "    <tr>\n",
       "      <th>394</th>\n",
       "      <td>1.620000e+18</td>\n",
       "      <td>@CSEH3C4R Hi there. We'd like to move this conversation to DM. Please follow us and let us know when you have so we can share next steps.</td>\n",
       "      <td>2023-02-08 08:04:25+00:00</td>\n",
       "      <td>1</td>\n",
       "      <td>0</td>\n",
       "      <td>Positive</td>\n",
       "      <td>2</td>\n",
       "      <td>cseh3c4r hi there we d like to move this conversation to dm please follow us and let us know when you have so we can share next steps</td>\n",
       "    </tr>\n",
       "    <tr>\n",
       "      <th>395</th>\n",
       "      <td>1.620000e+18</td>\n",
       "      <td>@mompe_klass Hmm. You can skip that step using \"Try another way\" but we suggest answering all questions as best as you can. Keep us posted.</td>\n",
       "      <td>2023-02-08 17:12:18+00:00</td>\n",
       "      <td>0</td>\n",
       "      <td>0</td>\n",
       "      <td>Positive</td>\n",
       "      <td>2</td>\n",
       "      <td>mompe klass hmm you can skip that step using try another way but we suggest answering all questions as best as you can keep us posted</td>\n",
       "    </tr>\n",
       "  </tbody>\n",
       "</table>\n",
       "<p>396 rows × 8 columns</p>\n",
       "</div>"
      ],
      "text/plain": [
       "               id  \\\n",
       "0    1.620000e+18   \n",
       "1    1.620000e+18   \n",
       "2    1.623610e+18   \n",
       "3    1.620000e+18   \n",
       "4    1.610000e+18   \n",
       "..            ...   \n",
       "391  1.620000e+18   \n",
       "392  1.600000e+18   \n",
       "393  1.620000e+18   \n",
       "394  1.620000e+18   \n",
       "395  1.620000e+18   \n",
       "\n",
       "                                                                                                                                             text  \\\n",
       "0                                    New T-0 of 4:32 a.m. ET for this morning’s Falcon 9 launch of Starlink; weather is 70% favorable for liftoff   \n",
       "1                                                                                                                     @Millions I'm just reading.   \n",
       "2                                                          @diannasff we'd like to know more about this. talk to us here: https://t.co/MOjDkbDTZR   \n",
       "3    @QuDeuce Hi, Qudeuce. You can see the participants in a meeting by following these steps: In the upper left corner,… https://t.co/1A7uSBQXVt   \n",
       "4         Falcon 9 launches SpaceX’s sixth dedicated smallsat rideshare mission – completing our 200th successful launch! https://t.co/SIaypHsMur   \n",
       "..                                                                                                                                            ...   \n",
       "391   @Biswaji50827917 Hi Biswajit. We'd like to move this conversation to DM. Please follow us and let us know when you… https://t.co/42R9maLZ3I   \n",
       "392                       Watch Falcon 9 launch the @SES_Satellites O3b mPOWER mission to orbit → https://t.co/bJFjLCzWdK https://t.co/SqeA1SSTsu   \n",
       "393                                                              @nicnacpattiwac6 @JKillJagSwag904 Nothing but respect for a quality baked potato   \n",
       "394     @CSEH3C4R Hi there. We'd like to move this conversation to DM. Please follow us and let us know when you have so we can share next steps.   \n",
       "395   @mompe_klass Hmm. You can skip that step using \"Try another way\" but we suggest answering all questions as best as you can. Keep us posted.   \n",
       "\n",
       "                          date  likes  retweets Sentiment_score  \\\n",
       "0    2023-01-26 08:40:46+00:00   2864       302        Positive   \n",
       "1    2023-02-01 17:08:09+00:00    408         1         Neutral   \n",
       "2    2023-02-09 09:11:14+00:00      0         0        Positive   \n",
       "3    2023-02-08 10:39:18+00:00      1         0         Neutral   \n",
       "4    2023-01-03 20:30:22+00:00  12589      1317        Positive   \n",
       "..                         ...    ...       ...             ...   \n",
       "391  2023-02-07 05:10:14+00:00      0         0        Positive   \n",
       "392  2022-12-16 22:35:51+00:00   3751       685         Neutral   \n",
       "393  2023-01-22 18:55:37+00:00   2060        42        Negative   \n",
       "394  2023-02-08 08:04:25+00:00      1         0        Positive   \n",
       "395  2023-02-08 17:12:18+00:00      0         0        Positive   \n",
       "\n",
       "     Sentiment_encoded  \\\n",
       "0                    2   \n",
       "1                    1   \n",
       "2                    2   \n",
       "3                    1   \n",
       "4                    2   \n",
       "..                 ...   \n",
       "391                  2   \n",
       "392                  1   \n",
       "393                  0   \n",
       "394                  2   \n",
       "395                  2   \n",
       "\n",
       "                                                                                                                                 clean_text  \n",
       "0                                 new t 0 of 4 32 a m et for this morning’s falcon 9 launch of starlink weather is 70 favorable for liftoff  \n",
       "1                                                                                                                 millions i m just reading  \n",
       "2                                                         diannasff we d like to know more about this talk to us here https t co mojdkbdtzr  \n",
       "3    qudeuce hi qudeuce you can see the participants in a meeting by following these steps in the upper left corner … https t co 1a7usbqxvt  \n",
       "4      falcon 9 launches spacex’s sixth dedicated smallsat rideshare mission – completing our 200th successful launch https t co siayphsmur  \n",
       "..                                                                                                                                      ...  \n",
       "391  biswaji50827917 hi biswajit we d like to move this conversation to dm please follow us and let us know when you… https t co 42r9malz3i  \n",
       "392                      watch falcon 9 launch the ses satellites o3b mpower mission to orbit → https t co bjfjlczwdk https t co sqea1sstsu  \n",
       "393                                                          nicnacpattiwac6 jkilljagswag904 nothing but respect for a quality baked potato  \n",
       "394   cseh3c4r hi there we d like to move this conversation to dm please follow us and let us know when you have so we can share next steps  \n",
       "395   mompe klass hmm you can skip that step using try another way but we suggest answering all questions as best as you can keep us posted  \n",
       "\n",
       "[396 rows x 8 columns]"
      ]
     },
     "execution_count": 21,
     "metadata": {},
     "output_type": "execute_result"
    }
   ],
   "source": [
    "#Shuffling data and resetting the index\n",
    "df_balanced = df_balanced.sample(frac=1).reset_index(drop=True)\n",
    "\n",
    "df_balanced"
   ]
  },
  {
   "cell_type": "code",
   "execution_count": 40,
   "id": "45a38595",
   "metadata": {
    "ExecuteTime": {
     "end_time": "2023-02-09T17:11:38.986998Z",
     "start_time": "2023-02-09T17:11:38.983945Z"
    }
   },
   "outputs": [],
   "source": [
    "#Defining the target and training features\n",
    "\n",
    "X = df2.iloc[:, 7] #training feature, the text of the tweet\n",
    "y = df2.iloc[:, 6] #target feature, the sentiment evaluation score"
   ]
  },
  {
   "cell_type": "code",
   "execution_count": 41,
   "id": "1e7d433f",
   "metadata": {
    "ExecuteTime": {
     "end_time": "2023-02-09T17:11:40.504309Z",
     "start_time": "2023-02-09T17:11:40.492086Z"
    }
   },
   "outputs": [],
   "source": [
    "X_train, X_test, y_train, y_test = train_test_split(X, y, test_size=0.2, random_state=42)"
   ]
  },
  {
   "cell_type": "code",
   "execution_count": 42,
   "id": "caac19ed",
   "metadata": {
    "ExecuteTime": {
     "end_time": "2023-02-09T17:11:47.411685Z",
     "start_time": "2023-02-09T17:11:47.345384Z"
    }
   },
   "outputs": [],
   "source": [
    "#Turning text into numerical features\n",
    "vec = CountVectorizer(\n",
    "    ngram_range=(1, 3), \n",
    "    stop_words=\"english\",\n",
    ")\n",
    "X_train = vec.fit_transform(X_train)\n",
    "X_test = vec.transform(X_test)\n"
   ]
  },
  {
   "cell_type": "code",
   "execution_count": 25,
   "id": "570172d8",
   "metadata": {
    "ExecuteTime": {
     "end_time": "2023-02-09T16:55:24.967265Z",
     "start_time": "2023-02-09T16:55:24.954712Z"
    }
   },
   "outputs": [],
   "source": [
    "#print(X_train)"
   ]
  },
  {
   "cell_type": "markdown",
   "id": "2a4edacc",
   "metadata": {},
   "source": [
    "### 2.2.1 Naive Bayes Classifier"
   ]
  },
  {
   "cell_type": "code",
   "execution_count": 43,
   "id": "f21e2f71",
   "metadata": {
    "ExecuteTime": {
     "end_time": "2023-02-09T17:11:53.036735Z",
     "start_time": "2023-02-09T17:11:53.014940Z"
    }
   },
   "outputs": [
    {
     "name": "stdout",
     "output_type": "stream",
     "text": [
      "              precision    recall  f1-score   support\n",
      "\n",
      "           0       1.00      0.23      0.38        30\n",
      "           1       0.72      0.65      0.68       111\n",
      "           2       0.68      0.85      0.76       139\n",
      "\n",
      "    accuracy                           0.70       280\n",
      "   macro avg       0.80      0.58      0.61       280\n",
      "weighted avg       0.73      0.70      0.69       280\n",
      "\n"
     ]
    }
   ],
   "source": [
    "#Training the model and predicting\n",
    "nb = MultinomialNB()\n",
    "nb.fit(X_train, y_train)\n",
    "\n",
    "predictions = nb.predict(X_test)\n",
    "print(classification_report(y_test, predictions))"
   ]
  },
  {
   "cell_type": "code",
   "execution_count": 44,
   "id": "935493d5",
   "metadata": {
    "ExecuteTime": {
     "end_time": "2023-02-09T17:11:56.395691Z",
     "start_time": "2023-02-09T17:11:56.282211Z"
    }
   },
   "outputs": [
    {
     "name": "stdout",
     "output_type": "stream",
     "text": [
      "[[  7   7  16]\n",
      " [  0  72  39]\n",
      " [  0  21 118]]\n"
     ]
    },
    {
     "data": {
      "text/plain": [
       "<AxesSubplot:>"
      ]
     },
     "execution_count": 44,
     "metadata": {},
     "output_type": "execute_result"
    },
    {
     "data": {
      "image/png": "[encoded data removed]",
      "text/plain": [
       "<Figure size 432x288 with 2 Axes>"
      ]
     },
     "metadata": {
      "needs_background": "light"
     },
     "output_type": "display_data"
    }
   ],
   "source": [
    "#Get the confusion matrix\n",
    "cf_matrix = confusion_matrix(y_test, predictions)\n",
    "print(cf_matrix)\n",
    "sns.heatmap(cf_matrix, annot=True, xticklabels=['negative','neutral','positive'], yticklabels=['negative','neutral','positive'])"
   ]
  },
  {
   "cell_type": "markdown",
   "id": "cc6e1be6",
   "metadata": {},
   "source": [
    "### 2.2.2 Random Forest"
   ]
  },
  {
   "cell_type": "code",
   "execution_count": 45,
   "id": "34c02b77",
   "metadata": {
    "ExecuteTime": {
     "end_time": "2023-02-09T17:12:32.681739Z",
     "start_time": "2023-02-09T17:12:30.037649Z"
    }
   },
   "outputs": [
    {
     "name": "stdout",
     "output_type": "stream",
     "text": [
      "              precision    recall  f1-score   support\n",
      "\n",
      "           0       1.00      0.20      0.33        30\n",
      "           1       0.60      0.91      0.73       111\n",
      "           2       0.83      0.64      0.72       139\n",
      "\n",
      "    accuracy                           0.70       280\n",
      "   macro avg       0.81      0.58      0.59       280\n",
      "weighted avg       0.76      0.70      0.68       280\n",
      "\n"
     ]
    }
   ],
   "source": [
    "# Training and predicting\n",
    "\n",
    "forest_model = RandomForestClassifier(n_estimators=100, random_state=42)\n",
    "forest_model.fit(X_train, y_train)\n",
    "\n",
    "predictions_forest = forest_model.predict(X_test)\n",
    "\n",
    "print(classification_report(y_test, predictions_forest))"
   ]
  },
  {
   "cell_type": "code",
   "execution_count": 46,
   "id": "bf612270",
   "metadata": {
    "ExecuteTime": {
     "end_time": "2023-02-09T17:12:41.326012Z",
     "start_time": "2023-02-09T17:12:41.201126Z"
    }
   },
   "outputs": [
    {
     "name": "stdout",
     "output_type": "stream",
     "text": [
      "[[  6  16   8]\n",
      " [  0 101  10]\n",
      " [  0  50  89]]\n"
     ]
    },
    {
     "data": {
      "text/plain": [
       "<AxesSubplot:>"
      ]
     },
     "execution_count": 46,
     "metadata": {},
     "output_type": "execute_result"
    },
    {
     "data": {
      "image/png": "[encoded data removed]",
      "text/plain": [
       "<Figure size 432x288 with 2 Axes>"
      ]
     },
     "metadata": {
      "needs_background": "light"
     },
     "output_type": "display_data"
    }
   ],
   "source": [
    "#Get the confusion matrix\n",
    "cf_matrix = confusion_matrix(y_test, predictions_forest)\n",
    "print(cf_matrix)\n",
    "sns.heatmap(cf_matrix, annot=True, xticklabels=['negative','neutral','positive'], yticklabels=['negative','neutral','positive'])"
   ]
  },
  {
   "cell_type": "markdown",
   "id": "0b3c8434",
   "metadata": {},
   "source": [
    "### 2.2.3 Logistic Regression"
   ]
  },
  {
   "cell_type": "code",
   "execution_count": 47,
   "id": "ef6226a9",
   "metadata": {
    "ExecuteTime": {
     "end_time": "2023-02-09T17:13:01.201984Z",
     "start_time": "2023-02-09T17:13:00.967070Z"
    }
   },
   "outputs": [
    {
     "data": {
      "text/html": [
       "<style>#sk-container-id-2 {color: black;background-color: white;}#sk-container-id-2 pre{padding: 0;}#sk-container-id-2 div.sk-toggleable {background-color: white;}#sk-container-id-2 label.sk-toggleable__label {cursor: pointer;display: block;width: 100%;margin-bottom: 0;padding: 0.3em;box-sizing: border-box;text-align: center;}#sk-container-id-2 label.sk-toggleable__label-arrow:before {content: \"▸\";float: left;margin-right: 0.25em;color: #696969;}#sk-container-id-2 label.sk-toggleable__label-arrow:hover:before {color: black;}#sk-container-id-2 div.sk-estimator:hover label.sk-toggleable__label-arrow:before {color: black;}#sk-container-id-2 div.sk-toggleable__content {max-height: 0;max-width: 0;overflow: hidden;text-align: left;background-color: #f0f8ff;}#sk-container-id-2 div.sk-toggleable__content pre {margin: 0.2em;color: black;border-radius: 0.25em;background-color: #f0f8ff;}#sk-container-id-2 input.sk-toggleable__control:checked~div.sk-toggleable__content {max-height: 200px;max-width: 100%;overflow: auto;}#sk-container-id-2 input.sk-toggleable__control:checked~label.sk-toggleable__label-arrow:before {content: \"▾\";}#sk-container-id-2 div.sk-estimator input.sk-toggleable__control:checked~label.sk-toggleable__label {background-color: #d4ebff;}#sk-container-id-2 div.sk-label input.sk-toggleable__control:checked~label.sk-toggleable__label {background-color: #d4ebff;}#sk-container-id-2 input.sk-hidden--visually {border: 0;clip: rect(1px 1px 1px 1px);clip: rect(1px, 1px, 1px, 1px);height: 1px;margin: -1px;overflow: hidden;padding: 0;position: absolute;width: 1px;}#sk-container-id-2 div.sk-estimator {font-family: monospace;background-color: #f0f8ff;border: 1px dotted black;border-radius: 0.25em;box-sizing: border-box;margin-bottom: 0.5em;}#sk-container-id-2 div.sk-estimator:hover {background-color: #d4ebff;}#sk-container-id-2 div.sk-parallel-item::after {content: \"\";width: 100%;border-bottom: 1px solid gray;flex-grow: 1;}#sk-container-id-2 div.sk-label:hover label.sk-toggleable__label {background-color: #d4ebff;}#sk-container-id-2 div.sk-serial::before {content: \"\";position: absolute;border-left: 1px solid gray;box-sizing: border-box;top: 0;bottom: 0;left: 50%;z-index: 0;}#sk-container-id-2 div.sk-serial {display: flex;flex-direction: column;align-items: center;background-color: white;padding-right: 0.2em;padding-left: 0.2em;position: relative;}#sk-container-id-2 div.sk-item {position: relative;z-index: 1;}#sk-container-id-2 div.sk-parallel {display: flex;align-items: stretch;justify-content: center;background-color: white;position: relative;}#sk-container-id-2 div.sk-item::before, #sk-container-id-2 div.sk-parallel-item::before {content: \"\";position: absolute;border-left: 1px solid gray;box-sizing: border-box;top: 0;bottom: 0;left: 50%;z-index: -1;}#sk-container-id-2 div.sk-parallel-item {display: flex;flex-direction: column;z-index: 1;position: relative;background-color: white;}#sk-container-id-2 div.sk-parallel-item:first-child::after {align-self: flex-end;width: 50%;}#sk-container-id-2 div.sk-parallel-item:last-child::after {align-self: flex-start;width: 50%;}#sk-container-id-2 div.sk-parallel-item:only-child::after {width: 0;}#sk-container-id-2 div.sk-dashed-wrapped {border: 1px dashed gray;margin: 0 0.4em 0.5em 0.4em;box-sizing: border-box;padding-bottom: 0.4em;background-color: white;}#sk-container-id-2 div.sk-label label {font-family: monospace;font-weight: bold;display: inline-block;line-height: 1.2em;}#sk-container-id-2 div.sk-label-container {text-align: center;}#sk-container-id-2 div.sk-container {/* jupyter's `normalize.less` sets `[hidden] { display: none; }` but bootstrap.min.css set `[hidden] { display: none !important; }` so we also need the `!important` here to be able to override the default hidden behavior on the sphinx rendered scikit-learn.org. See: https://github.com/scikit-learn/scikit-learn/issues/21755 */display: inline-block !important;position: relative;}#sk-container-id-2 div.sk-text-repr-fallback {display: none;}</style><div id=\"sk-container-id-2\" class=\"sk-top-container\"><div class=\"sk-text-repr-fallback\"><pre>LogisticRegression()</pre><b>In a Jupyter environment, please rerun this cell to show the HTML representation or trust the notebook. <br />On GitHub, the HTML representation is unable to render, please try loading this page with nbviewer.org.</b></div><div class=\"sk-container\" hidden><div class=\"sk-item\"><div class=\"sk-estimator sk-toggleable\"><input class=\"sk-toggleable__control sk-hidden--visually\" id=\"sk-estimator-id-2\" type=\"checkbox\" checked><label for=\"sk-estimator-id-2\" class=\"sk-toggleable__label sk-toggleable__label-arrow\">LogisticRegression</label><div class=\"sk-toggleable__content\"><pre>LogisticRegression()</pre></div></div></div></div></div>"
      ],
      "text/plain": [
       "LogisticRegression()"
      ]
     },
     "execution_count": 47,
     "metadata": {},
     "output_type": "execute_result"
    }
   ],
   "source": [
    "logr = LogisticRegression()\n",
    "logr.fit(X_train,y_train)"
   ]
  },
  {
   "cell_type": "code",
   "execution_count": 48,
   "id": "0916a66c",
   "metadata": {
    "ExecuteTime": {
     "end_time": "2023-02-09T17:13:02.719552Z",
     "start_time": "2023-02-09T17:13:02.701623Z"
    }
   },
   "outputs": [
    {
     "name": "stdout",
     "output_type": "stream",
     "text": [
      "              precision    recall  f1-score   support\n",
      "\n",
      "           0       1.00      0.27      0.42        30\n",
      "           1       0.64      0.86      0.73       111\n",
      "           2       0.80      0.70      0.75       139\n",
      "\n",
      "    accuracy                           0.72       280\n",
      "   macro avg       0.81      0.61      0.63       280\n",
      "weighted avg       0.76      0.72      0.71       280\n",
      "\n"
     ]
    }
   ],
   "source": [
    "predictions_logr = logr.predict(X_test)\n",
    "print(classification_report(y_test, predictions_logr))"
   ]
  },
  {
   "cell_type": "code",
   "execution_count": 49,
   "id": "e0014566",
   "metadata": {
    "ExecuteTime": {
     "end_time": "2023-02-09T17:13:17.326252Z",
     "start_time": "2023-02-09T17:13:17.199209Z"
    }
   },
   "outputs": [
    {
     "name": "stdout",
     "output_type": "stream",
     "text": [
      "[[ 8 13  9]\n",
      " [ 0 96 15]\n",
      " [ 0 42 97]]\n"
     ]
    },
    {
     "data": {
      "text/plain": [
       "<AxesSubplot:>"
      ]
     },
     "execution_count": 49,
     "metadata": {},
     "output_type": "execute_result"
    },
    {
     "data": {
      "image/png": "[encoded data removed]",
      "text/plain": [
       "<Figure size 432x288 with 2 Axes>"
      ]
     },
     "metadata": {
      "needs_background": "light"
     },
     "output_type": "display_data"
    }
   ],
   "source": [
    "#Get the confusion matrix\n",
    "cf_matrix = confusion_matrix(y_test, predictions_logr)\n",
    "print(cf_matrix)\n",
    "sns.heatmap(cf_matrix, annot=True, xticklabels=['negative','neutral','positive'], yticklabels=['negative','neutral','positive'])"
   ]
  },
  {
   "cell_type": "code",
   "execution_count": null,
   "id": "0ef06f07",
   "metadata": {},
   "outputs": [],
   "source": []
  }
 ],
 "metadata": {
  "kernelspec": {
   "display_name": "Python 3 (ipykernel)",
   "language": "python",
   "name": "python3"
  },
  "language_info": {
   "codemirror_mode": {
    "name": "ipython",
    "version": 3
   },
   "file_extension": ".py",
   "mimetype": "text/x-python",
   "name": "python",
   "nbconvert_exporter": "python",
   "pygments_lexer": "ipython3",
   "version": "3.9.12"
  },
  "varInspector": {
   "cols": {
    "lenName": 16,
    "lenType": 16,
    "lenVar": 40
   },
   "kernels_config": {
    "python": {
     "delete_cmd_postfix": "",
     "delete_cmd_prefix": "del ",
     "library": "var_list.py",
     "varRefreshCmd": "print(var_dic_list())"
    },
    "r": {
     "delete_cmd_postfix": ") ",
     "delete_cmd_prefix": "rm(",
     "library": "var_list.r",
     "varRefreshCmd": "cat(var_dic_list()) "
    }
   },
   "types_to_exclude": [
    "module",
    "function",
    "builtin_function_or_method",
    "instance",
    "_Feature"
   ],
   "window_display": false
  }
 },
 "nbformat": 4,
 "nbformat_minor": 5
}
